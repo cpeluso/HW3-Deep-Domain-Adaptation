{
  "nbformat": 4,
  "nbformat_minor": 0,
  "metadata": {
    "colab": {
      "name": "HW3 - Deep Domain Adaptation.ipynb",
      "provenance": [],
      "collapsed_sections": [],
      "toc_visible": true
    },
    "kernelspec": {
      "name": "python3",
      "display_name": "Python 3"
    },
    "accelerator": "GPU"
  },
  "cells": [
    {
      "cell_type": "markdown",
      "metadata": {
        "id": "c9QcGnGPdX2C",
        "colab_type": "text"
      },
      "source": [
        "\n",
        "**Install requirements**"
      ]
    },
    {
      "cell_type": "code",
      "metadata": {
        "id": "k9O3aM3Tb28q",
        "colab_type": "code",
        "colab": {}
      },
      "source": [
        "# !pip3 install 'torch==1.3.1'\n",
        "# !pip3 install 'torchvision==0.5.0'\n",
        "# !pip3 install 'Pillow-SIMD'\n",
        "# !pip3 install 'tqdm'\n",
        "\n",
        "!rm -rf \"./DANN\"\n",
        "!rm -rf \"./PACS\""
      ],
      "execution_count": 0,
      "outputs": []
    },
    {
      "cell_type": "markdown",
      "metadata": {
        "id": "fo942LMOdlh4",
        "colab_type": "text"
      },
      "source": [
        "**Import libraries**"
      ]
    },
    {
      "cell_type": "code",
      "metadata": {
        "id": "DokFOdD1dJEl",
        "colab_type": "code",
        "colab": {}
      },
      "source": [
        "import os\n",
        "import logging\n",
        "\n",
        "import torch\n",
        "import torch.nn as nn\n",
        "import torch.optim as optim\n",
        "from torch.utils.data import Subset, DataLoader\n",
        "from torch.backends import cudnn\n",
        "\n",
        "import torchvision\n",
        "from torchvision import transforms\n",
        "from torchvision.models import alexnet\n",
        "from torchvision.datasets import ImageFolder\n",
        "\n",
        "from PIL import Image\n",
        "from tqdm import tqdm\n",
        "\n",
        "import numpy as np\n",
        "from google.colab import output\n",
        "\n",
        "import seaborn as sns\n",
        "import pandas as pd\n",
        "import matplotlib.pyplot as plt\n",
        "\n",
        "output.clear()"
      ],
      "execution_count": 0,
      "outputs": []
    },
    {
      "cell_type": "markdown",
      "metadata": {
        "id": "OIDLJuIXK_vh",
        "colab_type": "text"
      },
      "source": [
        "#### **Set Arguments, Define Data Preprocessing, Prepare Datasets, DataLoader and Network**"
      ]
    },
    {
      "cell_type": "code",
      "metadata": {
        "id": "E4oLpDAZk20M",
        "colab_type": "code",
        "colab": {}
      },
      "source": [
        "class Loader():\n",
        "  def __init__(self):\n",
        "    pass\n",
        "\n",
        "  def load_default_parameters(self):\n",
        "    default_DEVICE = 'cuda'\n",
        "    default_NUM_CLASSES = 7\n",
        "    default_NUM_DOMAINS = 2 \n",
        "    default_BATCH_SIZE = 256 \n",
        "    default_LR = 0.001           \n",
        "    default_MOMENTUM = 0.9      \n",
        "    default_WEIGHT_DECAY = 5e-5  \n",
        "    default_NUM_EPOCHS = 30\n",
        "    default_STEP_SIZE = 20   \n",
        "    default_GAMMA = 0.1    \n",
        "    default_LOG_FREQUENCY = 10\n",
        "    default_IMAGE_SIZE = 224\n",
        "    return (default_DEVICE, default_NUM_CLASSES, default_NUM_DOMAINS, default_BATCH_SIZE, default_LR, default_MOMENTUM, default_WEIGHT_DECAY, default_NUM_EPOCHS, default_STEP_SIZE, default_GAMMA, default_LOG_FREQUENCY, default_IMAGE_SIZE)\n",
        "    pass\n",
        "\n",
        "  def load_default_transformations(self):\n",
        "    return (transforms.Compose([\n",
        "      transforms.Resize(256),      \n",
        "      transforms.CenterCrop(224),                            \n",
        "      transforms.ToTensor(), \n",
        "      transforms.Normalize((0.5, 0.5, 0.5), (0.5, 0.5, 0.5)) \n",
        "    ]),\n",
        "    transforms.Compose([\n",
        "      transforms.Resize(256),\n",
        "      transforms.CenterCrop(224),\n",
        "      transforms.ToTensor(),\n",
        "      transforms.Normalize((0.5, 0.5, 0.5), (0.5, 0.5, 0.5))                                    \n",
        "    ]))\n",
        "    pass\n",
        "\n",
        "  def clone_repositories(self):\n",
        "    # Clone github repository with data\n",
        "    if not os.path.isdir('./PACS'):\n",
        "      !git clone https://github.com/MachineLearning2020/Homework3-PACS.git\n",
        "      !mv 'Homework3-PACS' 'PACS'\n",
        "\n",
        "    # Clone personal github repository with DANN model class\n",
        "    if not os.path.isdir('./DANN'):\n",
        "      !git clone https://github.com/cpeluso/HW3-Deep-Domain-Adaptation.git\n",
        "      !mv 'HW3-Deep-Domain-Adaptation' 'DANN'\n",
        "    \n",
        "    pass\n",
        "\n",
        "  def load_datasets(self):\n",
        "    global train_transform, test_transform\n",
        "\n",
        "    DATA_DIR = [\n",
        "      \"PACS/PACS/art_painting\",\n",
        "      \"PACS/PACS/cartoon\",\n",
        "      \"PACS/PACS/photo\",\n",
        "      \"PACS/PACS/sketch\"\n",
        "    ]\n",
        "\n",
        "    return (ImageFolder(DATA_DIR[2], transform = train_transform),\n",
        "            ImageFolder(DATA_DIR[0], transform = test_transform),\n",
        "            ImageFolder(DATA_DIR[1], transform = test_transform),\n",
        "            ImageFolder(DATA_DIR[3], transform = test_transform))\n",
        "    pass\n",
        "\n",
        "  def load_dataloaders(self):\n",
        "    global train_dataset, test_dataset, cartoon_dataset, sketch_dataset\n",
        "    \n",
        "    return (DataLoader(train_dataset, batch_size=BATCH_SIZE, shuffle=True, num_workers=4, drop_last=True),\n",
        "            DataLoader(test_dataset, batch_size=BATCH_SIZE, shuffle=False, num_workers=4),\n",
        "            DataLoader(cartoon_dataset, batch_size=BATCH_SIZE, shuffle=False, num_workers=4),\n",
        "            DataLoader(sketch_dataset, batch_size=BATCH_SIZE, shuffle=False, num_workers=4))\n",
        "    pass\n",
        "\n",
        "  def load_dann(self, dann):\n",
        "    # Apply weights of pretrained AlexNet also to the domain classifier branch\n",
        "    for classifier_layer, dann_classifier_layer in zip(dann.classifier, dann.dann_classifier):\n",
        "      if type(classifier_layer) is torch.nn.modules.linear.Linear:\n",
        "        dann_classifier_layer.weight.data = classifier_layer.weight.data\n",
        "        dann_classifier_layer.bias.data = classifier_layer.bias.data\n",
        "\n",
        "    # Change number of outputs of last fully connected layers of classifier and domain classifier\n",
        "    dann.classifier[6] = nn.Linear(4096, NUM_CLASSES)\n",
        "    dann.dann_classifier[6] = nn.Linear(4096, NUM_DOMAINS)\n",
        "\n",
        "    return dann\n",
        "    pass\n",
        "\n",
        "  def load_scheduler_optimizer(self, dann, LR, MOMENTUM, WEIGHT_DECAY, STEP_SIZE, GAMMA):\n",
        "\n",
        "    parameters_to_optimize = dann.parameters()\n",
        "    optimizer = optim.SGD(parameters_to_optimize, lr=LR, momentum=MOMENTUM, weight_decay=WEIGHT_DECAY)\n",
        "    scheduler = optim.lr_scheduler.StepLR(optimizer, step_size=STEP_SIZE, gamma=GAMMA)\n",
        "    return optimizer, scheduler \n",
        "    pass"
      ],
      "execution_count": 0,
      "outputs": []
    },
    {
      "cell_type": "code",
      "metadata": {
        "id": "fvk2sAo7hWiA",
        "colab_type": "code",
        "colab": {}
      },
      "source": [
        "class Utility():\n",
        "  def __init__(self):\n",
        "    pass\n",
        "\n",
        "  def sample_target(self, step, n_batches):\n",
        "    global dataloader_target\n",
        "    if step % n_batches == 0:\n",
        "        self.target_set = iter(dataloader_target)\n",
        "    return self.target_set.next()\n",
        "    pass\n",
        "\n",
        "  def sample_target_cartoon(self, step, n_batches):\n",
        "    global dataloader_target_cartoon\n",
        "    if step % n_batches == 0:\n",
        "        self.target_set_cartoon = iter(dataloader_target_cartoon)\n",
        "    return self.target_set_cartoon.next()\n",
        "    pass\n",
        "\n",
        "  def sample_target_sketch(self, step, n_batches):\n",
        "    global dataloader_target_sketch\n",
        "    if step % n_batches == 0:\n",
        "        self.target_set_sketch = iter(dataloader_target_sketch)\n",
        "    return self.target_set_sketch.next()\n",
        "    pass\n",
        "    \n",
        "  def plot_losses(self, classifier_losses = [], discriminator_source_losses = [], discriminator_target_losses = []):\n",
        "\n",
        "    plt.figure()  \n",
        "    sns.set(style = \"whitegrid\")\n",
        "    fig, ax = plt.subplots(figsize=(20, 6))\n",
        "\n",
        "    if classifier_losses != []:\n",
        "      classifier_loss_df = pd.DataFrame(classifier_losses)\n",
        "      classifier_loss_df = classifier_loss_df.astype(float)\n",
        "      classifier_loss_df.columns=['Epoch','Loss']\n",
        "      sns.lineplot(x='Epoch',y='Loss',data=classifier_loss_df, markers=True, dashes=False,  ax = ax, legend = \"full\")\n",
        "\n",
        "    if discriminator_source_losses != []:\n",
        "      discriminator_source_loss_df = pd.DataFrame(discriminator_source_losses)\n",
        "      discriminator_source_loss_df = discriminator_source_loss_df.astype(float)\n",
        "      discriminator_source_loss_df.columns=['Epoch','Loss']\n",
        "      sns.lineplot(x='Epoch',y='Loss',data=discriminator_source_loss_df, markers=True, dashes=False,  ax = ax, legend = \"full\")\n",
        "    \n",
        "    if discriminator_target_losses != []:\n",
        "      discriminator_target_loss_df = pd.DataFrame(discriminator_target_losses)\n",
        "      discriminator_target_loss_df = discriminator_target_loss_df.astype(float)\n",
        "      discriminator_target_loss_df.columns=['Epoch','Loss']\n",
        "      sns.lineplot(x='Epoch',y='Loss',data=discriminator_target_loss_df, markers=True, dashes=False,  ax = ax, legend = \"full\")\n",
        "\n",
        "    pass\n",
        "\n",
        "  def plot_accuracies(self, classifier_accuracies = [], validation_accuracies = []):\n",
        "    \n",
        "    plt.figure()  \n",
        "    sns.set(style = \"whitegrid\")\n",
        "    fig, ax = plt.subplots(figsize=(20, 6))\n",
        "\n",
        "    classifier_accuracies_df = pd.DataFrame(classifier_accuracies)\n",
        "    classifier_accuracies_df = classifier_accuracies_df.astype(float)\n",
        "    classifier_accuracies_df.columns=['Epoch','Accuracy']\n",
        "\n",
        "    validation_accuracies_df = pd.DataFrame(validation_accuracies)\n",
        "    validation_accuracies_df = validation_accuracies_df.astype(float)\n",
        "    validation_accuracies_df.columns=['Epoch','Accuracy']\n",
        "\n",
        "    sns.lineplot(x='Epoch',y='Accuracy',data=classifier_accuracies_df, markers=True, dashes=False,  ax = ax)\n",
        "    sns.lineplot(x='Epoch',y='Accuracy',data=validation_accuracies_df, markers=True, dashes=False,  ax = ax)\n",
        "\n",
        "    pass\n",
        "  \n",
        "  "
      ],
      "execution_count": 0,
      "outputs": []
    },
    {
      "cell_type": "code",
      "metadata": {
        "id": "KNW7x_xYpi1d",
        "colab_type": "code",
        "colab": {}
      },
      "source": [
        "class TrainValidateTestManager():\n",
        "  def __init__(self):\n",
        "    pass\n",
        "  \n",
        "  def train_network_without_adaptation_artpainting(self, dann, util):\n",
        "    global dataloader_source, train_dataset, NUM_EPOCHS\n",
        "    dann = dann.to(DEVICE) \n",
        "    cudnn.benchmark\n",
        "    current_step = 0\n",
        "\n",
        "    classifier_accuracies = []\n",
        "    validation_accuracies = []\n",
        "    classifier_losses = []\n",
        "\n",
        "    # Start iterating over the epochs\n",
        "    for epoch in range(NUM_EPOCHS):\n",
        "      \n",
        "      print(\"Epoch \" + str(epoch+1))\n",
        "      \n",
        "      running_corrects = 0\n",
        "\n",
        "      for index, (source_images, labels) in enumerate(dataloader_source):\n",
        "\n",
        "        dann.train()\n",
        "\n",
        "        source = source_images.to(DEVICE)\n",
        "        labels = labels.to(DEVICE)\n",
        "\n",
        "        optimizer.zero_grad()\n",
        "\n",
        "        # Forward source data to the classifier branch of the network\n",
        "        classifier_output = dann(source)\n",
        "        classifier_loss = loss_classifier(classifier_output, labels)\n",
        "        classifier_loss.backward()\n",
        "\n",
        "        # Get predictions\n",
        "        _, preds = torch.max(classifier_output.data, 1)\n",
        "\n",
        "        # Update Corrects\n",
        "        running_corrects += torch.sum(preds == labels.data).data.item()\n",
        "\n",
        "        optimizer.step()\n",
        "\n",
        "      scheduler.step() \n",
        "\n",
        "      # Calculate Accuracy\n",
        "      accuracy = running_corrects / float(len(train_dataset))\n",
        "      validation_accuracy = self.evaluate_neural_network_on_validation_set(dann, dataloader_target, test_dataset)\n",
        "      \n",
        "      print(\"Classifier accuracy: \", str(accuracy))\n",
        "      print(\"Validation accuracy: \", str(validation_accuracy))\n",
        "      print(\"Classifier loss: \", str(classifier_loss.item()))\n",
        "\n",
        "      classifier_accuracies.append( (epoch + 1, accuracy) )\n",
        "      validation_accuracies.append( (epoch + 1, validation_accuracy) )\n",
        "      classifier_losses.append( (epoch + 1, classifier_loss.item()) )\n",
        "\n",
        "    output.clear()    \n",
        "    util.plot_accuracies(classifier_accuracies, validation_accuracies)\n",
        "    util.plot_losses(classifier_losses)\n",
        "    pass\n",
        "  \n",
        "  def train_network_with_adaptation_artpainting(self, dann, util, LAMBDA):\n",
        "    global dataloader_source, train_dataset, NUM_EPOCHS, BATCH_SIZE\n",
        "    dann = dann.to(DEVICE) \n",
        "    cudnn.benchmark\n",
        "    current_step = 0\n",
        "\n",
        "    classifier_accuracies = []\n",
        "    validation_accuracies = []\n",
        "    classifier_losses = []\n",
        "    discriminator_source_losses = []\n",
        "    discriminator_target_losses = []\n",
        "    short_discriminator_target_labels = []\n",
        "\n",
        "    # Start iterating over the epochs\n",
        "    for epoch in range(NUM_EPOCHS):\n",
        "      \n",
        "      print(\"Epoch \" + str(epoch+1))\n",
        "      \n",
        "      running_corrects = 0\n",
        "\n",
        "      for index, (source_images, labels) in enumerate(dataloader_source):\n",
        "\n",
        "        dann.train()\n",
        "\n",
        "        target_images, target_set = util.sample_target(current_step, BATCH_SIZE)\n",
        "\n",
        "        source = source_images.to(DEVICE)\n",
        "        target = target_images.to(DEVICE)\n",
        "        labels = labels.to(DEVICE)\n",
        "\n",
        "        optimizer.zero_grad()\n",
        "\n",
        "        # Forward source data to the classifier branch of the network\n",
        "        classifier_output = dann(source)\n",
        "        classifier_loss = loss_classifier(classifier_output, labels)\n",
        "        classifier_loss.backward()\n",
        "\n",
        "        # Get predictions\n",
        "        _, preds = torch.max(classifier_output.data, 1)\n",
        "\n",
        "        # Update Corrects\n",
        "        running_corrects += torch.sum(preds == labels.data).data.item()\n",
        "\n",
        "        # Forward source data to the discriminator branch of the network\n",
        "        discriminator_output_source = dann(source, LAMBDA)\n",
        "        discriminator_loss_source = loss_discriminator(discriminator_output_source, discriminator_source_labels)\n",
        "        discriminator_loss_source.backward()\n",
        "\n",
        "        # Forward target data to the discriminator branch of the network\n",
        "        discriminator_output_target = dann(target, LAMBDA)\n",
        "        if BATCH_SIZE != len(discriminator_output_target):\n",
        "\n",
        "          # Define short_discriminator_target_labels if not defined yet\n",
        "          short_discriminator_target_labels = torch.zeros(len(discriminator_output_target), dtype = torch.long).to(DEVICE) if len(short_discriminator_target_labels) else short_discriminator_target_labels\n",
        "        \n",
        "          discriminator_loss_target = loss_discriminator(discriminator_output_target, short_discriminator_target_labels)\n",
        "      \n",
        "        else:\n",
        "          \n",
        "          discriminator_loss_target = loss_discriminator(discriminator_output_target, discriminator_target_labels)\n",
        "\n",
        "        discriminator_loss_target.backward()\n",
        "\n",
        "        optimizer.step()\n",
        "\n",
        "      scheduler.step() \n",
        "\n",
        "      # Calculate Accuracy\n",
        "      accuracy = running_corrects / float(len(train_dataset))\n",
        "      validation_accuracy = self.evaluate_neural_network_on_validation_set(dann, dataloader_target, test_dataset)\n",
        "      \n",
        "      print(\"Classifier accuracy: \", str(accuracy))\n",
        "      print(\"Validation accuracy: \", str(validation_accuracy))\n",
        "      print(\"Classifier loss: \", str(classifier_loss.item()))\n",
        "      print(\"Discriminator (source) loss: \", str(discriminator_loss_source.item()))\n",
        "      print(\"Discriminator (target) loss: \", str(discriminator_loss_target.item()))\n",
        "\n",
        "      classifier_accuracies.append( (epoch + 1, accuracy) )\n",
        "      validation_accuracies.append( (epoch + 1, validation_accuracy) )\n",
        "      classifier_losses.append( (epoch + 1, classifier_loss.item()) )\n",
        "      discriminator_source_losses.append( (epoch + 1, discriminator_loss_source.item()) )\n",
        "      discriminator_target_losses.append( (epoch + 1, discriminator_loss_target.item()) )\n",
        "\n",
        "    output.clear()\n",
        "    util.plot_accuracies(classifier_accuracies, validation_accuracies)\n",
        "    util.plot_losses(classifier_losses, discriminator_source_losses, discriminator_target_losses)\n",
        "    pass\n",
        "\n",
        "  def train_network_with_adaptation_cartoon(self, dann, util, LAMBDA):\n",
        "    global dataloader_source, train_dataset, NUM_EPOCHS, BATCH_SIZE, dataloader_target_cartoon, cartoon_dataset\n",
        "\n",
        "    dann = dann.to(DEVICE) \n",
        "    cudnn.benchmark\n",
        "    current_step = 0\n",
        "\n",
        "    classifier_accuracies = []\n",
        "    validation_accuracies = []\n",
        "    classifier_losses = []\n",
        "    discriminator_source_losses = []\n",
        "    discriminator_target_losses = []\n",
        "    short_discriminator_target_labels = []\n",
        "\n",
        "    # Start iterating over the epochs\n",
        "    for epoch in range(NUM_EPOCHS):\n",
        "      \n",
        "      print(\"Epoch \" + str(epoch+1))\n",
        "      \n",
        "      running_corrects = 0\n",
        "\n",
        "      for index, (source_images, labels) in enumerate(dataloader_source):\n",
        "\n",
        "        dann.train()\n",
        "\n",
        "        target_images, target_set = util.sample_target_cartoon(current_step, BATCH_SIZE)\n",
        "\n",
        "        source = source_images.to(DEVICE)\n",
        "        target = target_images.to(DEVICE)\n",
        "        labels = labels.to(DEVICE)\n",
        "\n",
        "        optimizer.zero_grad()\n",
        "\n",
        "        # Forward source data to the classifier branch of the network\n",
        "        classifier_output = dann(source)\n",
        "        classifier_loss = loss_classifier(classifier_output, labels)\n",
        "        classifier_loss.backward()\n",
        "\n",
        "        # Get predictions\n",
        "        _, preds = torch.max(classifier_output.data, 1)\n",
        "\n",
        "        # Update Corrects\n",
        "        running_corrects += torch.sum(preds == labels.data).data.item()\n",
        "\n",
        "        # Forward source data to the discriminator branch of the network\n",
        "        discriminator_output_source = dann(source, LAMBDA)\n",
        "        discriminator_loss_source = loss_discriminator(discriminator_output_source, discriminator_source_labels)\n",
        "        discriminator_loss_source.backward()\n",
        "\n",
        "        # Forward target data to the discriminator branch of the network\n",
        "        discriminator_output_target = dann(target, LAMBDA)\n",
        "        if BATCH_SIZE != len(discriminator_output_target):\n",
        "\n",
        "          # Define short_discriminator_target_labels if not defined yet\n",
        "          short_discriminator_target_labels = torch.zeros(len(discriminator_output_target), dtype = torch.long).to(DEVICE) if len(short_discriminator_target_labels) else short_discriminator_target_labels\n",
        "        \n",
        "          discriminator_loss_target = loss_discriminator(discriminator_output_target, short_discriminator_target_labels)\n",
        "      \n",
        "        else:\n",
        "          \n",
        "          discriminator_loss_target = loss_discriminator(discriminator_output_target, discriminator_target_labels)\n",
        "\n",
        "        discriminator_loss_target.backward()\n",
        "\n",
        "        optimizer.step()\n",
        "\n",
        "      scheduler.step() \n",
        "\n",
        "      # Calculate Accuracy\n",
        "      accuracy = running_corrects / float(len(train_dataset))\n",
        "      \n",
        "      print(\"Classifier accuracy: \", str(accuracy))\n",
        "\n",
        "      validation_accuracy = self.evaluate_neural_network_on_validation_set(dann, dataloader_target_cartoon, cartoon_dataset)\n",
        "      validation_accuracies.append(validation_accuracy)\n",
        "      print(\"Validation accuracy: \", str(validation_accuracy))\n",
        "      \n",
        "      print(\"Classifier loss: \", str(classifier_loss.item()))\n",
        "      print(\"Discriminator (source) loss: \", str(discriminator_loss_source.item()))\n",
        "      print(\"Discriminator (target) loss: \", str(discriminator_loss_target.item()))\n",
        "\n",
        "    output.clear()\n",
        "\n",
        "    return validation_accuracies\n",
        "    pass\n",
        "\n",
        "  def train_network_with_adaptation_sketch(self, dann, util, LAMBDA):\n",
        "    global dataloader_source, train_dataset, NUM_EPOCHS, BATCH_SIZE, dataloader_target_sketch, sketch_dataset\n",
        "\n",
        "    dann = dann.to(DEVICE) \n",
        "    cudnn.benchmark\n",
        "    current_step = 0\n",
        "\n",
        "    classifier_accuracies = []\n",
        "    validation_accuracies = []\n",
        "    classifier_losses = []\n",
        "    discriminator_source_losses = []\n",
        "    discriminator_target_losses = []\n",
        "    short_discriminator_target_labels = []\n",
        "\n",
        "    # Start iterating over the epochs\n",
        "    for epoch in range(NUM_EPOCHS):\n",
        "      \n",
        "      print(\"Epoch \" + str(epoch+1))\n",
        "      \n",
        "      running_corrects = 0\n",
        "\n",
        "      for index, (source_images, labels) in enumerate(dataloader_source):\n",
        "\n",
        "        dann.train()\n",
        "\n",
        "        target_images, target_set = util.sample_target_sketch(current_step, BATCH_SIZE)\n",
        "\n",
        "        source = source_images.to(DEVICE)\n",
        "        target = target_images.to(DEVICE)\n",
        "        labels = labels.to(DEVICE)\n",
        "\n",
        "        optimizer.zero_grad()\n",
        "\n",
        "        # Forward source data to the classifier branch of the network\n",
        "        classifier_output = dann(source)\n",
        "        classifier_loss = loss_classifier(classifier_output, labels)\n",
        "        classifier_loss.backward()\n",
        "\n",
        "        # Get predictions\n",
        "        _, preds = torch.max(classifier_output.data, 1)\n",
        "\n",
        "        # Update Corrects\n",
        "        running_corrects += torch.sum(preds == labels.data).data.item()\n",
        "\n",
        "        # Forward source data to the discriminator branch of the network\n",
        "        discriminator_output_source = dann(source, LAMBDA)\n",
        "        discriminator_loss_source = loss_discriminator(discriminator_output_source, discriminator_source_labels)\n",
        "        discriminator_loss_source.backward()\n",
        "\n",
        "        # Forward target data to the discriminator branch of the network\n",
        "        discriminator_output_target = dann(target, LAMBDA)\n",
        "        if BATCH_SIZE != len(discriminator_output_target):\n",
        "\n",
        "          # Define short_discriminator_target_labels if not defined yet\n",
        "          short_discriminator_target_labels = torch.zeros(len(discriminator_output_target), dtype = torch.long).to(DEVICE) if len(short_discriminator_target_labels) else short_discriminator_target_labels\n",
        "        \n",
        "          discriminator_loss_target = loss_discriminator(discriminator_output_target, short_discriminator_target_labels)\n",
        "      \n",
        "        else:\n",
        "          \n",
        "          discriminator_loss_target = loss_discriminator(discriminator_output_target, discriminator_target_labels)\n",
        "\n",
        "        discriminator_loss_target.backward()\n",
        "\n",
        "        optimizer.step()\n",
        "\n",
        "      scheduler.step() \n",
        "\n",
        "      # Calculate Accuracy\n",
        "      accuracy = running_corrects / float(len(train_dataset))\n",
        "      \n",
        "      print(\"Classifier accuracy: \", str(accuracy))\n",
        "\n",
        "      validation_accuracy = self.evaluate_neural_network_on_validation_set(dann, dataloader_target_sketch, sketch_dataset)\n",
        "      validation_accuracies.append(validation_accuracy)\n",
        "      print(\"Validation accuracy: \", str(validation_accuracy))\n",
        "      \n",
        "      print(\"Classifier loss: \", str(classifier_loss.item()))\n",
        "      print(\"Discriminator (source) loss: \", str(discriminator_loss_source.item()))\n",
        "      print(\"Discriminator (target) loss: \", str(discriminator_loss_target.item()))\n",
        "\n",
        "    output.clear()\n",
        "\n",
        "    return validation_accuracies\n",
        "    pass\n",
        "  \n",
        "  def evaluate_neural_network_on_validation_set(self, dann, dataloader_target, target_dataset):\n",
        "    dann.train(False) # Set Network to evaluation mode\n",
        "\n",
        "    running_corrects = 0\n",
        "    for images, labels in dataloader_target:\n",
        "      images = images.to(DEVICE)\n",
        "      labels = labels.to(DEVICE)\n",
        "\n",
        "      # Forward Pass\n",
        "      outputs = dann(images)\n",
        "\n",
        "      # Get predictions\n",
        "      _, preds = torch.max(outputs.data, 1)\n",
        "\n",
        "      # Update Corrects\n",
        "      running_corrects += torch.sum(preds == labels.data).data.item()\n",
        "\n",
        "    # Calculate Accuracy\n",
        "    accuracy = running_corrects / float(len(target_dataset))\n",
        "\n",
        "    return accuracy\n",
        "    pass\n",
        "\n",
        "  def test_network(self, dann, dataloader_target):\n",
        "\n",
        "    # Set Network to evaluation mode\n",
        "    dann.train(False) \n",
        "\n",
        "    running_corrects = 0\n",
        "    for images, labels in tqdm(dataloader_target):\n",
        "      images = images.to(DEVICE)\n",
        "      labels = labels.to(DEVICE)\n",
        "\n",
        "      # Forward Pass\n",
        "      outputs = dann(images)\n",
        "\n",
        "      # Get predictions\n",
        "      _, preds = torch.max(outputs.data, 1)\n",
        "\n",
        "      # Update Corrects\n",
        "      running_corrects += torch.sum(preds == labels.data).data.item()\n",
        "\n",
        "    # Calculate Accuracy\n",
        "    accuracy = running_corrects / float(len(test_dataset))\n",
        "\n",
        "    print('\\nTest Accuracy: {}'.format(accuracy))\n",
        "    pass\n"
      ],
      "execution_count": 0,
      "outputs": []
    },
    {
      "cell_type": "markdown",
      "metadata": {
        "id": "JCzGjFMKzo-Y",
        "colab_type": "text"
      },
      "source": [
        "#### **Initialize Loader, Utility, Manager and transformations**"
      ]
    },
    {
      "cell_type": "code",
      "metadata": {
        "id": "d5PkYfqfK_SA",
        "colab_type": "code",
        "colab": {}
      },
      "source": [
        "loader = Loader()\n",
        "util = Utility()\n",
        "manager = TrainValidateTestManager()\n",
        "\n",
        "DEVICE, NUM_CLASSES, NUM_DOMAINS, BATCH_SIZE, LR, MOMENTUM, WEIGHT_DECAY, NUM_EPOCHS, STEP_SIZE, GAMMA, LOG_FREQUENCY, IMAGE_SIZE = loader.load_default_parameters()\n",
        " \n",
        "train_transform, test_transform = loader.load_default_transformations()\n",
        "\n",
        "loader.clone_repositories()\n",
        "from DANN.DANN import RandomNetworkWithReverseGrad\n",
        "\n",
        "output.clear()"
      ],
      "execution_count": 0,
      "outputs": []
    },
    {
      "cell_type": "markdown",
      "metadata": {
        "id": "AxYUli9d9uYQ",
        "colab_type": "text"
      },
      "source": [
        "**Train without adaptation**"
      ]
    },
    {
      "cell_type": "code",
      "metadata": {
        "id": "PbStwagHus_P",
        "colab_type": "code",
        "outputId": "443cc439-9483-4fc7-da3c-594bcbd4d90b",
        "colab": {
          "base_uri": "https://localhost:8080/",
          "height": 803
        }
      },
      "source": [
        "train_dataset, test_dataset, cartoon_dataset, sketch_dataset = loader.load_datasets()\n",
        "dataloader_source, dataloader_target, dataloader_target_cartoon, dataloader_target_sketch = loader.load_dataloaders()\n",
        "\n",
        "dann = loader.load_dann(RandomNetworkWithReverseGrad.alexnet_dann(pretrained=True))\n",
        "loss_classifier, loss_discriminator = nn.CrossEntropyLoss(), nn.CrossEntropyLoss()\n",
        "optimizer, scheduler = loader.load_scheduler_optimizer(dann, LR, MOMENTUM, WEIGHT_DECAY, STEP_SIZE, GAMMA)\n",
        "\n",
        "output.clear()\n",
        "\n",
        "manager.train_network_without_adaptation_artpainting(dann, util)\n",
        "\n",
        "model_filename = \"model_lr_\" + str(LR).replace(\".\", \"\") + \"_alpha_null.pth\"\n",
        "os.makedirs(\"without_adaptation\")\n",
        "model_path = os.path.join(\"without_adaptation\", model_filename)\n",
        "torch.save(dann.state_dict(), model_path)"
      ],
      "execution_count": 13,
      "outputs": [
        {
          "output_type": "display_data",
          "data": {
            "text/plain": [
              "<Figure size 432x288 with 0 Axes>"
            ]
          },
          "metadata": {
            "tags": []
          }
        },
        {
          "output_type": "display_data",
          "data": {
            "image/png": "[encoded data removed]",
            "text/plain": [
              "<Figure size 1440x432 with 1 Axes>"
            ]
          },
          "metadata": {
            "tags": []
          }
        },
        {
          "output_type": "display_data",
          "data": {
            "text/plain": [
              "<Figure size 432x288 with 0 Axes>"
            ]
          },
          "metadata": {
            "tags": []
          }
        },
        {
          "output_type": "display_data",
          "data": {
            "image/png": "[encoded data removed]",
            "text/plain": [
              "<Figure size 1440x432 with 1 Axes>"
            ]
          },
          "metadata": {
            "tags": []
          }
        }
      ]
    },
    {
      "cell_type": "code",
      "metadata": {
        "id": "qT4w-hAm3Ohf",
        "colab_type": "code",
        "outputId": "2d5f54d2-f894-43c5-ac14-a0948069cba6",
        "colab": {
          "base_uri": "https://localhost:8080/",
          "height": 66
        }
      },
      "source": [
        "manager.test_network(dann, dataloader_target)"
      ],
      "execution_count": 14,
      "outputs": [
        {
          "output_type": "stream",
          "text": [
            "100%|██████████| 8/8 [00:06<00:00,  1.19it/s]"
          ],
          "name": "stderr"
        },
        {
          "output_type": "stream",
          "text": [
            "\n",
            "Test Accuracy: 0.466796875\n"
          ],
          "name": "stdout"
        },
        {
          "output_type": "stream",
          "text": [
            "\n"
          ],
          "name": "stderr"
        }
      ]
    },
    {
      "cell_type": "markdown",
      "metadata": {
        "id": "2JKlfCi6AlVP",
        "colab_type": "text"
      },
      "source": [
        "**Train with adaptation**"
      ]
    },
    {
      "cell_type": "code",
      "metadata": {
        "id": "BnyvSQ0-zxU5",
        "colab_type": "code",
        "outputId": "abf8c862-9ebe-4c91-9686-a9ba43c49028",
        "colab": {
          "base_uri": "https://localhost:8080/",
          "height": 803
        }
      },
      "source": [
        "train_dataset, test_dataset, cartoon_dataset, sketch_dataset = loader.load_datasets()\n",
        "dataloader_source, dataloader_target, dataloader_target_cartoon, dataloader_target_sketch = loader.load_dataloaders()\n",
        "\n",
        "dann = loader.load_dann(RandomNetworkWithReverseGrad.alexnet_dann(pretrained=True))\n",
        "loss_classifier, loss_discriminator = nn.CrossEntropyLoss(), nn.CrossEntropyLoss()\n",
        "optimizer, scheduler = loader.load_scheduler_optimizer(dann, LR, MOMENTUM, WEIGHT_DECAY, STEP_SIZE, GAMMA)\n",
        "\n",
        "output.clear()\n",
        "\n",
        "discriminator_source_labels, discriminator_target_labels  = torch.zeros(BATCH_SIZE, dtype=torch.long).to(DEVICE), torch.ones(BATCH_SIZE, dtype=torch.long).to(DEVICE) # Discriminator label to Photo, Discriminator label to Art Painting\n",
        "discriminator_labels = torch.cat([discriminator_source_labels, discriminator_target_labels], dim=0)\n",
        "\n",
        "LAMBDA = 0.5\n",
        "\n",
        "manager.train_network_with_adaptation_artpainting(dann, util, LAMBDA)\n",
        "\n",
        "model_filename = \"model_lr_\" + str(LR).replace(\".\", \"\") + \"_alpha_\" + str(LAMBDA).replace(\".\", \"\") + \".pth\"\n",
        "os.makedirs(\"with_adaptation\")\n",
        "model_path = os.path.join(\"with_adaptation\", model_filename)\n",
        "torch.save(dann.state_dict(), model_path)"
      ],
      "execution_count": 10,
      "outputs": [
        {
          "output_type": "display_data",
          "data": {
            "text/plain": [
              "<Figure size 432x288 with 0 Axes>"
            ]
          },
          "metadata": {
            "tags": []
          }
        },
        {
          "output_type": "display_data",
          "data": {
            "image/png": "[encoded data removed]",
            "text/plain": [
              "<Figure size 1440x432 with 1 Axes>"
            ]
          },
          "metadata": {
            "tags": []
          }
        },
        {
          "output_type": "display_data",
          "data": {
            "text/plain": [
              "<Figure size 432x288 with 0 Axes>"
            ]
          },
          "metadata": {
            "tags": []
          }
        },
        {
          "output_type": "display_data",
          "data": {
            "image/png": "[encoded data removed]",
            "text/plain": [
              "<Figure size 1440x432 with 1 Axes>"
            ]
          },
          "metadata": {
            "tags": []
          }
        }
      ]
    },
    {
      "cell_type": "code",
      "metadata": {
        "id": "gKWkTE7b9Y13",
        "colab_type": "code",
        "outputId": "e4b58dbf-ed98-4373-a3b7-fc4dd4ae9292",
        "colab": {
          "base_uri": "https://localhost:8080/",
          "height": 66
        }
      },
      "source": [
        "manager.test_network(dann, dataloader_target)"
      ],
      "execution_count": 11,
      "outputs": [
        {
          "output_type": "stream",
          "text": [
            "100%|██████████| 8/8 [00:07<00:00,  1.11it/s]"
          ],
          "name": "stderr"
        },
        {
          "output_type": "stream",
          "text": [
            "\n",
            "Test Accuracy: 0.40966796875\n"
          ],
          "name": "stdout"
        },
        {
          "output_type": "stream",
          "text": [
            "\n"
          ],
          "name": "stderr"
        }
      ]
    },
    {
      "cell_type": "markdown",
      "metadata": {
        "id": "MXbRnNjsAtvF",
        "colab_type": "text"
      },
      "source": [
        "**Hyperparameters Tuning**"
      ]
    },
    {
      "cell_type": "code",
      "metadata": {
        "id": "y58hGo_VpB2w",
        "colab_type": "code",
        "colab": {}
      },
      "source": [
        "hyperparameters_set = [[0.0001, 0.0002, 0.0003], [0.2, 0.3, 0.4]]\n",
        "validation_accuracies_cartoon = dict()\n",
        "\n",
        "grid_search_advancement = []\n",
        "\n",
        "for lr in hyperparameters_set[0]:\n",
        "\n",
        "  for alpha in hyperparameters_set[1]:\n",
        "\n",
        "    validation_accuracies_cartoon[(lr, alpha)] = []\n",
        "\n",
        "    dann = loader.load_dann(RandomNetworkWithReverseGrad.alexnet_dann(pretrained=True))\n",
        "    loss_classifier, loss_discriminator = nn.CrossEntropyLoss(), nn.CrossEntropyLoss()\n",
        "    optimizer, scheduler = loader.load_scheduler_optimizer(dann, lr, MOMENTUM, WEIGHT_DECAY, STEP_SIZE, GAMMA)\n",
        "\n",
        "    discriminator_source_labels, discriminator_target_labels  = torch.zeros(BATCH_SIZE, dtype=torch.long).to(DEVICE), torch.ones(BATCH_SIZE, dtype=torch.long).to(DEVICE) # Discriminator label to Photo, Discriminator label to Cartoon\n",
        "    discriminator_labels = torch.cat([discriminator_source_labels, discriminator_target_labels], dim=0)\n",
        "\n",
        "    validation_accuracies_cartoon[(lr, alpha)] = manager.train_network_with_adaptation_cartoon(dann, util, alpha)\n",
        "\n",
        "    model_filename = \"model_lr_\" + str(LR).replace(\".\", \"\") + \"_alpha_\" + str(LAMBDA).replace(\".\", \"\") + \".pth\"\n",
        "    os.makedirs(\"hyperparameters_tuning_cartoon\")\n",
        "    model_path = os.path.join(\"hyperparameters_tuning_cartoon\", model_filename)\n",
        "    torch.save(dann.state_dict(), model_path)\n",
        "\n",
        "    this_max_accuracy = sorted(validation_accuracies_cartoon[(lr, alpha)], reverse=True)[0]\n",
        "    this_run = \"Cartoon - LR: \", lr, \", alpha: \", alpha, \", max accuracy (validation): \", this_max_accuracy\n",
        "    grid_search_advancement.append(this_run)\n",
        "    \n",
        "    for run in grid_search_advancement:\n",
        "      print(run)\n",
        "\n",
        "    print(\"- - - - - - \")"
      ],
      "execution_count": 0,
      "outputs": []
    },
    {
      "cell_type": "code",
      "metadata": {
        "id": "Wa00mjqM97uT",
        "colab_type": "code",
        "colab": {}
      },
      "source": [
        "validation_accuracies_sketch = dict()\n",
        "\n",
        "grid_search_advancement = []\n",
        "\n",
        "for lr in hyperparameters_set[0]:\n",
        "\n",
        "  for alpha in hyperparameters_set[1]:\n",
        "\n",
        "    validation_accuracies_sketch[(lr, alpha)] = []\n",
        "\n",
        "    dann = loader.load_dann(RandomNetworkWithReverseGrad.alexnet_dann(pretrained=True))\n",
        "    loss_classifier, loss_discriminator = nn.CrossEntropyLoss(), nn.CrossEntropyLoss()\n",
        "    optimizer, scheduler = loader.load_scheduler_optimizer(dann, lr, MOMENTUM, WEIGHT_DECAY, STEP_SIZE, GAMMA)\n",
        "\n",
        "    discriminator_source_labels, discriminator_target_labels  = torch.zeros(BATCH_SIZE, dtype=torch.long).to(DEVICE), torch.ones(BATCH_SIZE, dtype=torch.long).to(DEVICE) # Discriminator label to Photo, Discriminator label to Sketch\n",
        "    discriminator_labels = torch.cat([discriminator_source_labels, discriminator_target_labels], dim=0)\n",
        "\n",
        "    validation_accuracies_sketch[(lr, alpha)] = manager.train_network_with_adaptation_sketch(dann, util, alpha)\n",
        "\n",
        "    model_filename = \"model_lr_\" + str(LR).replace(\".\", \"\") + \"_alpha_\" + str(LAMBDA).replace(\".\", \"\") + \".pth\"\n",
        "    os.makedirs(\"hyperparameters_tuning_sketch\")\n",
        "    model_path = os.path.join(\"hyperparameters_tuning_sketch\", model_filename)\n",
        "    torch.save(dann.state_dict(), model_path)\n",
        "\n",
        "    this_max_accuracy = sorted(validation_accuracies_sketch[(lr, alpha)], reverse=True)[0]\n",
        "    this_run = \"Sketch - LR: \", lr, \", alpha: \", alpha, \", max accuracy (validation): \", this_max_accuracy\n",
        "    grid_search_advancement.append(this_run)\n",
        "    \n",
        "    for run in grid_search_advancement:\n",
        "      print(run)\n",
        "    \n",
        "    print(\"- - - - - - \")"
      ],
      "execution_count": 0,
      "outputs": []
    },
    {
      "cell_type": "code",
      "metadata": {
        "id": "kh0ocj47mOe0",
        "colab_type": "code",
        "colab": {}
      },
      "source": [
        "max_validation_accuracy_cartoon = dict()\n",
        "max_validation_accuracy_sketch = dict()\n",
        "\n",
        "for key in validation_accuracies_cartoon:\n",
        "    max_validation_accuracy_cartoon[key] = sorted(validation_accuracies_cartoon[key], reverse=True)[0]\n",
        "\n",
        "for key in validation_accuracies_sketch:   \n",
        "    max_validation_accuracy_sketch[key] = sorted(validation_accuracies_sketch[key], reverse=True)[0]\n",
        "\n",
        "grid_search_cartoon = []\n",
        "for key in max_validation_accuracy_cartoon:\n",
        "    grid_search_cartoon.append( (key[0], key[1], max_validation_accuracy_cartoon[key]) )\n",
        "    \n",
        "cartoon = pd.DataFrame(grid_search_cartoon, columns =['LR', 'Alpha', 'Accuracy'])\n",
        "cartoon_pivot = cartoon.pivot(index='LR', columns='Alpha', values='Accuracy')\n",
        "ax = sns.heatmap(cartoon_pivot,annot=True)\n",
        "\n",
        "plt.show()\n",
        "\n",
        "grid_search_sketch = []\n",
        "for key in max_validation_accuracy_sketch:\n",
        "    grid_search_sketch.append( (key[0], key[1], max_validation_accuracy_sketch[key]) )\n",
        "    \n",
        "sketch = pd.DataFrame(grid_search_sketch, columns =['LR', 'Alpha', 'Accuracy'])\n",
        "sketch_pivot = sketch.pivot(index='LR', columns='Alpha', values='Accuracy')\n",
        "ax = sns.heatmap(sketch_pivot,annot=True)\n",
        "\n",
        "avg_validation_accuracy = dict()\n",
        "\n",
        "for key in max_validation_accuracy_cartoon:\n",
        "    avg_validation_accuracy[key] = (max_validation_accuracy_cartoon[key] + max_validation_accuracy_sketch[key]) / 2\n",
        "\n",
        "lr, alpha = [key for key in avg_validation_accuracy if avg_validation_accuracy[key] == sorted(avg_validation_accuracy.values(), reverse=True)[0]][0]\n",
        "\n",
        "lr, alpha # Best Parameters"
      ],
      "execution_count": 0,
      "outputs": []
    }
  ]
}