{
  "nbformat": 4,
  "nbformat_minor": 0,
  "metadata": {
    "colab": {
      "name": "HW3 - Deep Domain Adaptation.ipynb",
      "provenance": [],
      "collapsed_sections": [],
      "include_colab_link": true
    },
    "kernelspec": {
      "name": "python3",
      "display_name": "Python 3"
    },
    "accelerator": "GPU"
  },
  "cells": [
    {
      "cell_type": "markdown",
      "metadata": {
        "id": "view-in-github",
        "colab_type": "text"
      },
      "source": [
        "<a href=\"https://colab.research.google.com/github/cpeluso/HW3-Deep-Domain-Adaptation/blob/master/HW3_Deep_Domain_Adaptation.ipynb\" target=\"_parent\"><img src=\"https://colab.research.google.com/assets/colab-badge.svg\" alt=\"Open In Colab\"/></a>"
      ]
    },
    {
      "cell_type": "markdown",
      "metadata": {
        "id": "c9QcGnGPdX2C",
        "colab_type": "text"
      },
      "source": [
        "\n",
        "**Install requirements**"
      ]
    },
    {
      "cell_type": "code",
      "metadata": {
        "id": "k9O3aM3Tb28q",
        "colab_type": "code",
        "colab": {}
      },
      "source": [
        "# !pip3 install 'torch==1.3.1'\n",
        "# !pip3 install 'torchvision==0.5.0'\n",
        "# !pip3 install 'Pillow-SIMD'\n",
        "# !pip3 install 'tqdm'\n",
        "\n",
        "!rm -rf \"./DANN\"\n",
        "!rm -rf \"./PACS\""
      ],
      "execution_count": 0,
      "outputs": []
    },
    {
      "cell_type": "markdown",
      "metadata": {
        "id": "fo942LMOdlh4",
        "colab_type": "text"
      },
      "source": [
        "**Import libraries**"
      ]
    },
    {
      "cell_type": "code",
      "metadata": {
        "id": "DokFOdD1dJEl",
        "colab_type": "code",
        "colab": {}
      },
      "source": [
        "import os\n",
        "import logging\n",
        "\n",
        "import torch\n",
        "import torch.nn as nn\n",
        "import torch.optim as optim\n",
        "from torch.utils.data import Subset, DataLoader\n",
        "from torch.backends import cudnn\n",
        "\n",
        "import torchvision\n",
        "from torchvision import transforms\n",
        "from torchvision.models import alexnet\n",
        "from torchvision.datasets import ImageFolder\n",
        "\n",
        "from PIL import Image\n",
        "from tqdm import tqdm\n",
        "\n",
        "import numpy as np\n",
        "from google.colab import output\n",
        "\n",
        "import seaborn as sns\n",
        "import pandas as pd\n",
        "import matplotlib.pyplot as plt\n",
        "\n",
        "output.clear()"
      ],
      "execution_count": 0,
      "outputs": []
    },
    {
      "cell_type": "markdown",
      "metadata": {
        "id": "OIDLJuIXK_vh",
        "colab_type": "text"
      },
      "source": [
        "**Set Arguments, Define Data Preprocessing, Prepare Datasets, DataLoader and Network**"
      ]
    },
    {
      "cell_type": "code",
      "metadata": {
        "id": "E4oLpDAZk20M",
        "colab_type": "code",
        "colab": {}
      },
      "source": [
        "class Loader():\n",
        "  def __init__(self):\n",
        "    pass\n",
        "\n",
        "  def load_default_parameters(self):\n",
        "    default_DEVICE = 'cuda'\n",
        "    default_NUM_CLASSES = 7\n",
        "    default_NUM_DOMAINS = 2 \n",
        "    default_BATCH_SIZE = 256 \n",
        "    default_LR = 0.001           \n",
        "    default_MOMENTUM = 0.9      \n",
        "    default_WEIGHT_DECAY = 5e-5  \n",
        "    default_NUM_EPOCHS = 30\n",
        "    default_STEP_SIZE = 20   \n",
        "    default_GAMMA = 0.1    \n",
        "    default_LOG_FREQUENCY = 10\n",
        "    default_IMAGE_SIZE = 224\n",
        "    return (default_DEVICE, default_NUM_CLASSES, default_NUM_DOMAINS, default_BATCH_SIZE, default_LR, default_MOMENTUM, default_WEIGHT_DECAY, default_NUM_EPOCHS, default_STEP_SIZE, default_GAMMA, default_LOG_FREQUENCY, default_IMAGE_SIZE)\n",
        "    pass\n",
        "\n",
        "  def load_default_transformations(self):\n",
        "    return (transforms.Compose([\n",
        "      transforms.Resize(256),      \n",
        "      transforms.CenterCrop(224),                            \n",
        "      transforms.ToTensor(), \n",
        "      transforms.Normalize((0.5, 0.5, 0.5), (0.5, 0.5, 0.5)) \n",
        "    ]),\n",
        "    transforms.Compose([\n",
        "      transforms.Resize(256),\n",
        "      transforms.CenterCrop(224),\n",
        "      transforms.ToTensor(),\n",
        "      transforms.Normalize((0.5, 0.5, 0.5), (0.5, 0.5, 0.5))                                    \n",
        "    ]))\n",
        "    pass\n",
        "\n",
        "  def clone_repositories(self):\n",
        "    # Clone github repository with data\n",
        "    if not os.path.isdir('./PACS'):\n",
        "      !git clone https://github.com/MachineLearning2020/Homework3-PACS.git\n",
        "      !mv 'Homework3-PACS' 'PACS'\n",
        "\n",
        "    # Clone personal github repository with DANN model class\n",
        "    if not os.path.isdir('./DANN'):\n",
        "      !git clone https://github.com/cpeluso/HW3-Deep-Domain-Adaptation.git\n",
        "      !mv 'HW3-Deep-Domain-Adaptation' 'DANN'\n",
        "    \n",
        "    pass\n",
        "\n",
        "  def load_datasets(self):\n",
        "    global train_transform, test_transform\n",
        "\n",
        "    DATA_DIR = [\n",
        "      \"PACS/PACS/art_painting\",\n",
        "      \"PACS/PACS/cartoon\",\n",
        "      \"PACS/PACS/photo\",\n",
        "      \"PACS/PACS/sketch\"\n",
        "    ]\n",
        "\n",
        "    return (ImageFolder(DATA_DIR[2], transform = train_transform),\n",
        "            ImageFolder(DATA_DIR[0], transform = test_transform),\n",
        "            ImageFolder(DATA_DIR[1]),\n",
        "            ImageFolder(DATA_DIR[3]))\n",
        "    pass\n",
        "\n",
        "  def load_dataloaders(self):\n",
        "    global train_dataset, test_dataset, cartoon_dataset, sketch_dataset\n",
        "    \n",
        "    return (DataLoader(train_dataset, batch_size=BATCH_SIZE, shuffle=True, num_workers=4, drop_last=True),\n",
        "            DataLoader(test_dataset, batch_size=BATCH_SIZE, shuffle=False, num_workers=4),\n",
        "            DataLoader(cartoon_dataset, batch_size=BATCH_SIZE, shuffle=False, num_workers=4),\n",
        "            DataLoader(sketch_dataset, batch_size=BATCH_SIZE, shuffle=False, num_workers=4))\n",
        "    pass\n",
        "\n",
        "  def load_dann(self, dann):\n",
        "    # Apply weights of pretrained AlexNet also to the domain classifier branch\n",
        "    for classifier_layer, dann_classifier_layer in zip(dann.classifier, dann.dann_classifier):\n",
        "      if type(classifier_layer) is torch.nn.modules.linear.Linear:\n",
        "        dann_classifier_layer.weight.data = classifier_layer.weight.data\n",
        "        dann_classifier_layer.bias.data = classifier_layer.bias.data\n",
        "\n",
        "    # Change number of outputs of last fully connected layers of classifier and domain classifier\n",
        "    dann.classifier[6] = nn.Linear(4096, NUM_CLASSES)\n",
        "    dann.dann_classifier[6] = nn.Linear(4096, NUM_DOMAINS)\n",
        "\n",
        "    return dann\n",
        "    pass\n",
        "\n",
        "  def load_scheduler_optimizer(self, dann, LR, MOMENTUM, WEIGHT_DECAY, STEP_SIZE, GAMMA):\n",
        "\n",
        "    parameters_to_optimize = dann.parameters()\n",
        "    optimizer = optim.SGD(parameters_to_optimize, lr=LR, momentum=MOMENTUM, weight_decay=WEIGHT_DECAY)\n",
        "    scheduler = optim.lr_scheduler.StepLR(optimizer, step_size=STEP_SIZE, gamma=GAMMA)\n",
        "    return optimizer, scheduler \n",
        "    pass"
      ],
      "execution_count": 0,
      "outputs": []
    },
    {
      "cell_type": "code",
      "metadata": {
        "id": "fvk2sAo7hWiA",
        "colab_type": "code",
        "colab": {}
      },
      "source": [
        "class Utility():\n",
        "  def __init__(self):\n",
        "    pass\n",
        "    \n",
        "  def plot_losses(self, classifier_losses = [], discriminator_source_losses = [], discriminator_target_losses = []):\n",
        "\n",
        "    plt.figure()  \n",
        "    sns.set(style = \"whitegrid\")\n",
        "    fig, ax = plt.subplots(figsize=(20, 6))\n",
        "\n",
        "    if classifier_losses != []:\n",
        "      classifier_loss_df = pd.DataFrame(classifier_losses)\n",
        "      classifier_loss_df = classifier_loss_df.astype(float)\n",
        "      classifier_loss_df.columns=['Epoch','Loss']\n",
        "      sns.lineplot(x='Epoch',y='Loss',data=classifier_loss_df, markers=True, dashes=False,  ax = ax, legend = \"full\")\n",
        "\n",
        "\n",
        "    if discriminator_source_losses != []:\n",
        "      discriminator_source_loss_df = pd.DataFrame(discriminator_source_losses)\n",
        "      discriminator_source_loss_df = discriminator_source_loss_df.astype(float)\n",
        "      discriminator_source_loss_df.columns=['Epoch','Loss']\n",
        "      sns.lineplot(x='Epoch',y='Loss',data=discriminator_source_loss_df, markers=True, dashes=False,  ax = ax, legend = \"full\")\n",
        "    \n",
        "    if discriminator_source_losses != []:\n",
        "      discriminator_target_loss_df = pd.DataFrame(discriminator_source_losses)\n",
        "      discriminator_target_loss_df = discriminator_target_loss_df.astype(float)\n",
        "      discriminator_target_loss_df.columns=['Epoch','Loss']\n",
        "      sns.lineplot(x='Epoch',y='Loss',data=discriminator_target_loss_df, markers=True, dashes=False,  ax = ax, legend = \"full\")\n",
        "\n",
        "    pass\n",
        "\n",
        "  def plot_accuracies(self, classifier_accuracies = []):\n",
        "    classifier_accuracies_df = pd.DataFrame(classifier_accuracies)\n",
        "    classifier_accuracies_df = classifier_accuracies_df.astype(float)\n",
        "    classifier_accuracies_df.columns=['Epoch','Accuracy']\n",
        "\n",
        "    plt.figure()  \n",
        "    sns.set(style = \"whitegrid\")\n",
        "    fig, ax = plt.subplots(figsize=(20, 6))\n",
        "\n",
        "    sns.lineplot(x='Epoch',y='Accuracy',data=classifier_accuracies_df, markers=True, dashes=False,  ax = ax)\n",
        "    pass"
      ],
      "execution_count": 0,
      "outputs": []
    },
    {
      "cell_type": "code",
      "metadata": {
        "id": "KNW7x_xYpi1d",
        "colab_type": "code",
        "colab": {}
      },
      "source": [
        "class TrainValidateTestManager():\n",
        "  def __init__(self):\n",
        "    pass\n",
        "  \n",
        "  def train_network_without_adaptation(self, dann, util):\n",
        "    global dataloader_source, train_dataset, NUM_EPOCHS\n",
        "    dann = dann.to(DEVICE) \n",
        "    cudnn.benchmark\n",
        "    current_step = 0\n",
        "\n",
        "    classifier_accuracies = []\n",
        "    classifier_losses = []\n",
        "\n",
        "    # Start iterating over the epochs\n",
        "    for epoch in range(NUM_EPOCHS):\n",
        "      \n",
        "      print(\"Epoch \" + str(epoch+1))\n",
        "      \n",
        "      running_corrects = 0\n",
        "\n",
        "      for index, (source_images, labels) in enumerate(dataloader_source):\n",
        "\n",
        "        dann.train()\n",
        "\n",
        "        source = source_images.to(DEVICE)\n",
        "        labels = labels.to(DEVICE)\n",
        "\n",
        "        optimizer.zero_grad()\n",
        "\n",
        "        # Forward source data to the classifier branch of the network\n",
        "        classifier_output = dann(source)\n",
        "        classifier_loss = loss_classifier(classifier_output, labels)\n",
        "        classifier_loss.backward()\n",
        "\n",
        "        # Get predictions\n",
        "        _, preds = torch.max(classifier_output.data, 1)\n",
        "\n",
        "        # Update Corrects\n",
        "        running_corrects += torch.sum(preds == labels.data).data.item()\n",
        "\n",
        "        optimizer.step()\n",
        "\n",
        "      scheduler.step() \n",
        "\n",
        "      # Calculate Accuracy\n",
        "      accuracy = running_corrects / float(len(train_dataset))\n",
        "      \n",
        "      print(\"Classifier accuracy: \", str(accuracy))\n",
        "      print(\"Classifier loss: \", str(classifier_loss.item()))\n",
        "\n",
        "      classifier_accuracies.append( (epoch + 1, accuracy) )\n",
        "      classifier_losses.append( (epoch + 1, classifier_loss.item()) )\n",
        "\n",
        "    output.clear()\n",
        "    util.plot_accuracies(classifier_accuracies)\n",
        "    util.plot_losses(classifier_losses)\n",
        "    pass\n",
        "  \n",
        "  def train_network_with_adaptation(self, dann, util, LAMBDA):\n",
        "    global dataloader_source, train_dataset, NUM_EPOCHS, BATCH_SIZE\n",
        "    dann = dann.to(DEVICE) \n",
        "    cudnn.benchmark\n",
        "    current_step = 0\n",
        "\n",
        "    classifier_accuracies = []\n",
        "    classifier_losses = []\n",
        "    discriminator_source_losses = []\n",
        "    discriminator_target_losses = []\n",
        "    short_discriminator_target_labels = []\n",
        "\n",
        "    # Start iterating over the epochs\n",
        "    for epoch in range(NUM_EPOCHS):\n",
        "      \n",
        "      print(\"Epoch \" + str(epoch+1))\n",
        "      \n",
        "      running_corrects = 0\n",
        "\n",
        "      for index, (source_images, labels) in enumerate(dataloader_source):\n",
        "\n",
        "        dann.train()\n",
        "\n",
        "        target_images, target_set = sample_target(current_step, BATCH_SIZE)\n",
        "\n",
        "        source = source_images.to(DEVICE)\n",
        "        target = target_images.to(DEVICE)\n",
        "        labels = labels.to(DEVICE)\n",
        "\n",
        "        optimizer.zero_grad()\n",
        "\n",
        "        # Forward source data to the classifier branch of the network\n",
        "        classifier_output = dann(source)\n",
        "        classifier_loss = loss_classifier(classifier_output, labels)\n",
        "        classifier_loss.backward()\n",
        "\n",
        "        # Get predictions\n",
        "        _, preds = torch.max(classifier_output.data, 1)\n",
        "\n",
        "        # Update Corrects\n",
        "        running_corrects += torch.sum(preds == labels.data).data.item()\n",
        "\n",
        "        # Forward source data to the discriminator branch of the network\n",
        "        discriminator_output_source = dann(source, LAMBDA)\n",
        "        discriminator_loss_source = loss_discriminator(discriminator_output_source, discriminator_source_labels)\n",
        "        discriminator_loss_source.backward()\n",
        "\n",
        "        # Forward target data to the discriminator branch of the network\n",
        "        discriminator_output_target = dann(target, LAMBDA)\n",
        "        if BATCH_SIZE != len(discriminator_output_target):\n",
        "\n",
        "          # Define short_discriminator_target_labels if not defined yet\n",
        "          short_discriminator_target_labels = torch.zeros(len(discriminator_output_target), dtype = torch.long).to(DEVICE) if len(short_discriminator_target_labels) else short_discriminator_target_labels\n",
        "        \n",
        "          discriminator_loss_target = loss_discriminator(discriminator_output_target, short_discriminator_target_labels)\n",
        "      \n",
        "        else:\n",
        "          \n",
        "          discriminator_loss_target = loss_discriminator(discriminator_output_target, discriminator_target_labels)\n",
        "\n",
        "        discriminator_loss_target.backward()\n",
        "\n",
        "        optimizer.step()\n",
        "\n",
        "      scheduler.step() \n",
        "\n",
        "      # Calculate Accuracy\n",
        "      accuracy = running_corrects / float(len(train_dataset))\n",
        "      \n",
        "      print(\"Classifier accuracy: \", str(accuracy))\n",
        "      print(\"Classifier loss: \", str(classifier_loss.item()))\n",
        "      print(\"Discriminator (source) loss: \", str(discriminator_loss_source.item()))\n",
        "      print(\"Discriminator (target) loss: \", str(discriminator_loss_target.item()))\n",
        "\n",
        "      classifier_accuracies.append( (epoch + 1, accuracy) )\n",
        "      classifier_losses.append( (epoch + 1, classifier_loss.item()) )\n",
        "      discriminator_source_losses.append( (epoch + 1, discriminator_loss_source.item()) )\n",
        "      discriminator_target_losses.append( (epoch + 1, discriminator_loss_target.item()) )\n",
        "\n",
        "    output.clear()\n",
        "    util.plot_accuracies(classifier_accuracies)\n",
        "    util.plot_losses(classifier_losses, discriminator_source_losses, discriminator_target_losses)\n",
        "\n",
        "  def test_network(self, dann, dataloader_target):\n",
        "\n",
        "    # Set Network to evaluation mode\n",
        "    dann.train(False) \n",
        "\n",
        "    running_corrects = 0\n",
        "    for images, labels in tqdm(dataloader_target):\n",
        "      images = images.to(DEVICE)\n",
        "      labels = labels.to(DEVICE)\n",
        "\n",
        "      # Forward Pass\n",
        "      outputs = dann(images)\n",
        "\n",
        "      # Get predictions\n",
        "      _, preds = torch.max(outputs.data, 1)\n",
        "\n",
        "      # Update Corrects\n",
        "      running_corrects += torch.sum(preds == labels.data).data.item()\n",
        "\n",
        "    # Calculate Accuracy\n",
        "    accuracy = running_corrects / float(len(test_dataset))\n",
        "\n",
        "    print('\\nTest Accuracy: {}'.format(accuracy))\n",
        "    pass\n"
      ],
      "execution_count": 0,
      "outputs": []
    },
    {
      "cell_type": "code",
      "metadata": {
        "id": "d5PkYfqfK_SA",
        "colab_type": "code",
        "colab": {
          "base_uri": "https://localhost:8080/",
          "height": 225
        },
        "outputId": "cb98cf73-6bd8-43ac-cfd8-d1bb31af3690"
      },
      "source": [
        "loader = Loader()\n",
        "util = Utility()\n",
        "manager = TrainValidateTestManager()\n",
        "\n",
        "DEVICE, NUM_CLASSES, NUM_DOMAINS, BATCH_SIZE, LR, MOMENTUM, WEIGHT_DECAY, NUM_EPOCHS, STEP_SIZE, GAMMA, LOG_FREQUENCY, IMAGE_SIZE = loader.load_default_parameters()\n",
        " \n",
        "train_transform, test_transform = loader.load_default_transformations()\n",
        "\n",
        "loader.clone_repositories()\n",
        "from DANN.DANN import RandomNetworkWithReverseGrad\n",
        "\n",
        "train_dataset, test_dataset, cartoon_dataset, sketch_dataset = loader.load_datasets()\n",
        "dataloader_source, dataloader_target, dataloader_target_cartoon, dataloader_target_sketch = loader.load_dataloaders()"
      ],
      "execution_count": 6,
      "outputs": [
        {
          "output_type": "stream",
          "text": [
            "Cloning into 'Homework3-PACS'...\n",
            "remote: Enumerating objects: 10032, done.\u001b[K\n",
            "remote: Total 10032 (delta 0), reused 0 (delta 0), pack-reused 10032\u001b[K\n",
            "Receiving objects: 100% (10032/10032), 174.13 MiB | 42.51 MiB/s, done.\n",
            "Resolving deltas: 100% (1/1), done.\n",
            "Checking out files: 100% (9993/9993), done.\n",
            "Cloning into 'HW3-Deep-Domain-Adaptation'...\n",
            "remote: Enumerating objects: 45, done.\u001b[K\n",
            "remote: Counting objects: 100% (45/45), done.\u001b[K\n",
            "remote: Compressing objects: 100% (44/44), done.\u001b[K\n",
            "remote: Total 45 (delta 18), reused 0 (delta 0), pack-reused 0\u001b[K\n",
            "Unpacking objects: 100% (45/45), done.\n"
          ],
          "name": "stdout"
        }
      ]
    },
    {
      "cell_type": "markdown",
      "metadata": {
        "id": "KEyL3H_R4qCf",
        "colab_type": "text"
      },
      "source": [
        "**Prepare Training**"
      ]
    },
    {
      "cell_type": "code",
      "metadata": {
        "id": "9sjq00G94tSc",
        "colab_type": "code",
        "colab": {}
      },
      "source": [
        "target_set = iter(dataloader_target)\n",
        "def sample_target(step, n_batches):\n",
        "    global target_set\n",
        "    if step % n_batches == 0:\n",
        "        target_set = iter(dataloader_target)\n",
        "    return target_set.next()\n",
        "\n",
        "target_set_cartoon = iter(dataloader_target_cartoon)\n",
        "def sample_target(step, n_batches):\n",
        "    global target_set_cartoon\n",
        "    if step % n_batches == 0:\n",
        "        target_set_cartoon = iter(dataloader_target_cartoon)\n",
        "    return target_set_cartoon.next()\n",
        "\n",
        "target_set_sketch = iter(dataloader_target_sketch)\n",
        "def sample_target(step, n_batches):\n",
        "    global target_set_sketch\n",
        "    if step % n_batches == 0:\n",
        "        target_set_sketch = iter(dataloader_target_sketch)\n",
        "    return target_set_sketch.next()"
      ],
      "execution_count": 0,
      "outputs": []
    },
    {
      "cell_type": "markdown",
      "metadata": {
        "id": "AxYUli9d9uYQ",
        "colab_type": "text"
      },
      "source": [
        "\n",
        "**Train**"
      ]
    },
    {
      "cell_type": "code",
      "metadata": {
        "id": "PbStwagHus_P",
        "colab_type": "code",
        "outputId": "c3a29d13-079d-41f0-e8eb-7dd3fbd58ce2",
        "colab": {
          "base_uri": "https://localhost:8080/",
          "height": 804
        }
      },
      "source": [
        "dann = loader.load_dann(RandomNetworkWithReverseGrad.alexnet_dann(pretrained=True))\n",
        "loss_classifier, loss_discriminator = nn.CrossEntropyLoss(), nn.CrossEntropyLoss()\n",
        "optimizer, scheduler = loader.load_scheduler_optimizer(dann, LR, MOMENTUM, WEIGHT_DECAY, STEP_SIZE, GAMMA)\n",
        "\n",
        "output.clear()\n",
        "\n",
        "manager.train_network_without_adaptation(dann, util)"
      ],
      "execution_count": 8,
      "outputs": [
        {
          "output_type": "display_data",
          "data": {
            "text/plain": [
              "<Figure size 432x288 with 0 Axes>"
            ]
          },
          "metadata": {
            "tags": []
          }
        },
        {
          "output_type": "display_data",
          "data": {
            "image/png": "[encoded data removed]",
            "text/plain": [
              "<Figure size 1440x432 with 1 Axes>"
            ]
          },
          "metadata": {
            "tags": []
          }
        },
        {
          "output_type": "display_data",
          "data": {
            "text/plain": [
              "<Figure size 432x288 with 0 Axes>"
            ]
          },
          "metadata": {
            "tags": []
          }
        },
        {
          "output_type": "display_data",
          "data": {
            "image/png": "[encoded data removed]",
            "text/plain": [
              "<Figure size 1440x432 with 1 Axes>"
            ]
          },
          "metadata": {
            "tags": []
          }
        }
      ]
    },
    {
      "cell_type": "code",
      "metadata": {
        "id": "qT4w-hAm3Ohf",
        "colab_type": "code",
        "outputId": "c13f9ac3-d48e-4d7a-a0cd-244bf6fc23a6",
        "colab": {
          "base_uri": "https://localhost:8080/",
          "height": 69
        }
      },
      "source": [
        "manager.test_network(dann, dataloader_target)"
      ],
      "execution_count": 9,
      "outputs": [
        {
          "output_type": "stream",
          "text": [
            "100%|██████████| 8/8 [00:06<00:00,  1.22it/s]"
          ],
          "name": "stderr"
        },
        {
          "output_type": "stream",
          "text": [
            "\n",
            "Test Accuracy: 0.48095703125\n"
          ],
          "name": "stdout"
        },
        {
          "output_type": "stream",
          "text": [
            "\n"
          ],
          "name": "stderr"
        }
      ]
    },
    {
      "cell_type": "code",
      "metadata": {
        "id": "BnyvSQ0-zxU5",
        "colab_type": "code",
        "outputId": "595fbeb4-61e1-46c9-9e99-5ab50652f373",
        "colab": {
          "base_uri": "https://localhost:8080/",
          "height": 804
        }
      },
      "source": [
        "dann = loader.load_dann(RandomNetworkWithReverseGrad.alexnet_dann(pretrained=True))\n",
        "loss_classifier, loss_discriminator = nn.CrossEntropyLoss(), nn.CrossEntropyLoss()\n",
        "optimizer, scheduler = loader.load_scheduler_optimizer(dann, LR, MOMENTUM, WEIGHT_DECAY, STEP_SIZE, GAMMA)\n",
        "\n",
        "output.clear()\n",
        "\n",
        "discriminator_source_labels, discriminator_target_labels  = torch.zeros(BATCH_SIZE, dtype=torch.long).to(DEVICE), torch.ones(BATCH_SIZE, dtype=torch.long).to(DEVICE) # Discriminator label to Photo, Discriminator label to Art Painting\n",
        "discriminator_labels = torch.cat([discriminator_source_labels, discriminator_target_labels], dim=0)\n",
        "\n",
        "LAMBDA=0.5\n",
        "\n",
        "manager.train_network_with_adaptation(dann, util, LAMBDA)"
      ],
      "execution_count": 10,
      "outputs": [
        {
          "output_type": "display_data",
          "data": {
            "text/plain": [
              "<Figure size 432x288 with 0 Axes>"
            ]
          },
          "metadata": {
            "tags": []
          }
        },
        {
          "output_type": "display_data",
          "data": {
            "image/png": "[encoded data removed]",
            "text/plain": [
              "<Figure size 1440x432 with 1 Axes>"
            ]
          },
          "metadata": {
            "tags": []
          }
        },
        {
          "output_type": "display_data",
          "data": {
            "text/plain": [
              "<Figure size 432x288 with 0 Axes>"
            ]
          },
          "metadata": {
            "tags": []
          }
        },
        {
          "output_type": "display_data",
          "data": {
            "image/png": "[encoded data removed]",
            "text/plain": [
              "<Figure size 1440x432 with 1 Axes>"
            ]
          },
          "metadata": {
            "tags": []
          }
        }
      ]
    },
    {
      "cell_type": "code",
      "metadata": {
        "id": "gKWkTE7b9Y13",
        "colab_type": "code",
        "colab": {
          "base_uri": "https://localhost:8080/",
          "height": 69
        },
        "outputId": "78b08859-2b4d-4cbc-a798-5ff827a67e6d"
      },
      "source": [
        "manager.test_network(dann, dataloader_target)"
      ],
      "execution_count": 11,
      "outputs": [
        {
          "output_type": "stream",
          "text": [
            "100%|██████████| 8/8 [00:06<00:00,  1.16it/s]"
          ],
          "name": "stderr"
        },
        {
          "output_type": "stream",
          "text": [
            "\n",
            "Test Accuracy: 0.4365234375\n"
          ],
          "name": "stdout"
        },
        {
          "output_type": "stream",
          "text": [
            "\n"
          ],
          "name": "stderr"
        }
      ]
    },
    {
      "cell_type": "code",
      "metadata": {
        "id": "y58hGo_VpB2w",
        "colab_type": "code",
        "colab": {
          "base_uri": "https://localhost:8080/",
          "height": 485
        },
        "outputId": "80859497-784a-470d-e411-e019b3ab7641"
      },
      "source": [
        "# hyperparameters_set = loader.load_hyperparameters()  LR = [\"...\", \"...\", \"...\"], ALPHA = [\"...\", \"...\", \"...\"]\n",
        "\n",
        "# for lr in hyperparameters_set[0]:\n",
        "\n",
        "#   for alpha in hyperparameters_set[1]:\n",
        "\n",
        "#     dann = loader.load_dann(RandomNetworkWithReverseGrad.alexnet_dann(pretrained=True))\n",
        "#     loss_classifier, loss_discriminator = nn.CrossEntropyLoss(), nn.CrossEntropyLoss()\n",
        "#     optimizer, scheduler = loader.load_scheduler_optimizer(dann, lr, MOMENTUM, WEIGHT_DECAY, STEP_SIZE, GAMMA)\n",
        "\n",
        "#     output.clear()\n",
        "\n",
        "#     discriminator_source_labels, discriminator_target_labels  = torch.zeros(BATCH_SIZE, dtype=torch.long).to(DEVICE), torch.ones(BATCH_SIZE, dtype=torch.long).to(DEVICE) # Discriminator label to Photo, Discriminator label to Art Painting\n",
        "\n",
        "#     discriminator_labels = torch.cat([discriminator_source_labels, discriminator_target_labels], dim=0)\n",
        "\n",
        "#     manager.train_network_with_adaptation_grid_search(dann, util, alpha, dataloader_target_cartoon)\n",
        "\n",
        "#     LAMBDA=0.5\n",
        "#     already_recomputed_short_discriminator_target_labels = False\n",
        "\n",
        "#     dann = dann.to(DEVICE) \n",
        "#     cudnn.benchmark\n",
        "#     current_step = 0\n",
        "\n",
        "#     classifier_accuracies = []\n",
        "#     classifier_losses = []\n",
        "#     discriminator_source_losses = []\n",
        "#     discriminator_target_losses = []\n",
        "#     short_discriminator_target_labels = []\n",
        "\n",
        "#     # Start iterating over the epochs\n",
        "#     for epoch in range(NUM_EPOCHS):\n",
        "      \n",
        "#       print(\"Epoch \" + str(epoch+1))\n",
        "      \n",
        "#       running_corrects = 0\n",
        "\n",
        "#       for index, (source_images, labels) in enumerate(dataloader_source):\n",
        "\n",
        "#         dann.train()\n",
        "\n",
        "#         target_images, target_set = sample_target(current_step, BATCH_SIZE)\n",
        "\n",
        "#         source = source_images.to(DEVICE)\n",
        "#         target = target_images.to(DEVICE)\n",
        "#         labels = labels.to(DEVICE)\n",
        "\n",
        "#         optimizer.zero_grad()\n",
        "\n",
        "#         # Forward source data to the classifier branch of the network\n",
        "#         classifier_output = dann(source)\n",
        "#         classifier_loss = loss_classifier(classifier_output, labels)\n",
        "#         classifier_loss.backward()\n",
        "\n",
        "#         # Get predictions\n",
        "#         _, preds = torch.max(classifier_output.data, 1)\n",
        "\n",
        "#         # Update Corrects\n",
        "#         running_corrects += torch.sum(preds == labels.data).data.item()\n",
        "\n",
        "#         # Forward source data to the discriminator branch of the network\n",
        "#         discriminator_output_source = dann(source, LAMBDA)\n",
        "#         discriminator_loss_source = loss_discriminator(discriminator_output_source, discriminator_source_labels)\n",
        "#         discriminator_loss_source.backward()\n",
        "\n",
        "#         # Forward target data to the discriminator branch of the network\n",
        "#         discriminator_output_target = dann(target, LAMBDA)\n",
        "#         if BATCH_SIZE != len(discriminator_output_target):\n",
        "\n",
        "#           # Define short_discriminator_target_labels if not defined yet\n",
        "#           short_discriminator_target_labels = torch.zeros(len(discriminator_output_target), dtype = torch.long).to(DEVICE) if len(short_discriminator_target_labels) else short_discriminator_target_labels\n",
        "        \n",
        "#           discriminator_loss_target = loss_discriminator(discriminator_output_target, short_discriminator_target_labels)\n",
        "      \n",
        "#         else:\n",
        "          \n",
        "#           discriminator_loss_target = loss_discriminator(discriminator_output_target, discriminator_target_labels)\n",
        "\n",
        "#         discriminator_loss_target.backward()\n",
        "\n",
        "#         optimizer.step()\n",
        "\n",
        "#       scheduler.step() \n",
        "\n",
        "#       # Calculate Accuracy\n",
        "#       accuracy = running_corrects / float(len(train_dataset))\n",
        "      \n",
        "#       print(\"Classifier accuracy: \", str(accuracy))\n",
        "#       print(\"Classifier loss: \", str(classifier_loss.item()))\n",
        "#       print(\"Discriminator (source) loss: \", str(discriminator_loss_source.item()))\n",
        "#       print(\"Discriminator (target) loss: \", str(discriminator_loss_target.item()))\n",
        "\n",
        "#       classifier_accuracies.append( (epoch + 1, accuracy) )\n",
        "#       classifier_losses.append( (epoch + 1, classifier_loss.item()) )\n",
        "#       discriminator_source_losses.append( (epoch + 1, discriminator_loss_source.item()) )\n",
        "#       discriminator_target_losses.append( (epoch + 1, discriminator_loss_target.item()) )\n",
        "\n",
        "#     output.clear()\n",
        "#     loader.plot_accuracies(classifier_accuracies)\n",
        "#     loader.plot_losses(classifier_losses, discriminator_source_losses, discriminator_target_losses)"
      ],
      "execution_count": 12,
      "outputs": [
        {
          "output_type": "stream",
          "text": [
            "Epoch 1\n",
            "Classifier accuracy:  0.8910179640718563\n",
            "Classifier loss:  0.08770139515399933\n",
            "Discriminator (source) loss:  0.19195303320884705\n",
            "Discriminator (target) loss:  0.20521201193332672\n",
            "Epoch 2\n"
          ],
          "name": "stdout"
        },
        {
          "output_type": "error",
          "ename": "KeyboardInterrupt",
          "evalue": "ignored",
          "traceback": [
            "\u001b[0;31m---------------------------------------------------------------------------\u001b[0m",
            "\u001b[0;31mKeyboardInterrupt\u001b[0m                         Traceback (most recent call last)",
            "\u001b[0;32m<ipython-input-12-27522c88c536>\u001b[0m in \u001b[0;36m<module>\u001b[0;34m()\u001b[0m\n\u001b[1;32m     27\u001b[0m     \u001b[0mdann\u001b[0m\u001b[0;34m.\u001b[0m\u001b[0mtrain\u001b[0m\u001b[0;34m(\u001b[0m\u001b[0;34m)\u001b[0m\u001b[0;34m\u001b[0m\u001b[0;34m\u001b[0m\u001b[0m\n\u001b[1;32m     28\u001b[0m \u001b[0;34m\u001b[0m\u001b[0m\n\u001b[0;32m---> 29\u001b[0;31m     \u001b[0mtarget_images\u001b[0m\u001b[0;34m,\u001b[0m \u001b[0mtarget_set\u001b[0m \u001b[0;34m=\u001b[0m \u001b[0msample_target\u001b[0m\u001b[0;34m(\u001b[0m\u001b[0mcurrent_step\u001b[0m\u001b[0;34m,\u001b[0m \u001b[0mBATCH_SIZE\u001b[0m\u001b[0;34m)\u001b[0m\u001b[0;34m\u001b[0m\u001b[0;34m\u001b[0m\u001b[0m\n\u001b[0m\u001b[1;32m     30\u001b[0m \u001b[0;34m\u001b[0m\u001b[0m\n\u001b[1;32m     31\u001b[0m     \u001b[0msource\u001b[0m \u001b[0;34m=\u001b[0m \u001b[0msource_images\u001b[0m\u001b[0;34m.\u001b[0m\u001b[0mto\u001b[0m\u001b[0;34m(\u001b[0m\u001b[0mDEVICE\u001b[0m\u001b[0;34m)\u001b[0m\u001b[0;34m\u001b[0m\u001b[0;34m\u001b[0m\u001b[0m\n",
            "\u001b[0;32m<ipython-input-7-7e55199b185d>\u001b[0m in \u001b[0;36msample_target\u001b[0;34m(step, n_batches)\u001b[0m\n\u001b[1;32m      4\u001b[0m     \u001b[0;32mif\u001b[0m \u001b[0mstep\u001b[0m \u001b[0;34m%\u001b[0m \u001b[0mn_batches\u001b[0m \u001b[0;34m==\u001b[0m \u001b[0;36m0\u001b[0m\u001b[0;34m:\u001b[0m\u001b[0;34m\u001b[0m\u001b[0;34m\u001b[0m\u001b[0m\n\u001b[1;32m      5\u001b[0m         \u001b[0mtarget_set\u001b[0m \u001b[0;34m=\u001b[0m \u001b[0miter\u001b[0m\u001b[0;34m(\u001b[0m\u001b[0mdataloader_target\u001b[0m\u001b[0;34m)\u001b[0m\u001b[0;34m\u001b[0m\u001b[0;34m\u001b[0m\u001b[0m\n\u001b[0;32m----> 6\u001b[0;31m     \u001b[0;32mreturn\u001b[0m \u001b[0mtarget_set\u001b[0m\u001b[0;34m.\u001b[0m\u001b[0mnext\u001b[0m\u001b[0;34m(\u001b[0m\u001b[0;34m)\u001b[0m\u001b[0;34m\u001b[0m\u001b[0;34m\u001b[0m\u001b[0m\n\u001b[0m",
            "\u001b[0;32m/usr/local/lib/python3.6/dist-packages/torch/utils/data/dataloader.py\u001b[0m in \u001b[0;36m__next__\u001b[0;34m(self)\u001b[0m\n\u001b[1;32m    343\u001b[0m \u001b[0;34m\u001b[0m\u001b[0m\n\u001b[1;32m    344\u001b[0m     \u001b[0;32mdef\u001b[0m \u001b[0m__next__\u001b[0m\u001b[0;34m(\u001b[0m\u001b[0mself\u001b[0m\u001b[0;34m)\u001b[0m\u001b[0;34m:\u001b[0m\u001b[0;34m\u001b[0m\u001b[0;34m\u001b[0m\u001b[0m\n\u001b[0;32m--> 345\u001b[0;31m         \u001b[0mdata\u001b[0m \u001b[0;34m=\u001b[0m \u001b[0mself\u001b[0m\u001b[0;34m.\u001b[0m\u001b[0m_next_data\u001b[0m\u001b[0;34m(\u001b[0m\u001b[0;34m)\u001b[0m\u001b[0;34m\u001b[0m\u001b[0;34m\u001b[0m\u001b[0m\n\u001b[0m\u001b[1;32m    346\u001b[0m         \u001b[0mself\u001b[0m\u001b[0;34m.\u001b[0m\u001b[0m_num_yielded\u001b[0m \u001b[0;34m+=\u001b[0m \u001b[0;36m1\u001b[0m\u001b[0;34m\u001b[0m\u001b[0;34m\u001b[0m\u001b[0m\n\u001b[1;32m    347\u001b[0m         \u001b[0;32mif\u001b[0m \u001b[0mself\u001b[0m\u001b[0;34m.\u001b[0m\u001b[0m_dataset_kind\u001b[0m \u001b[0;34m==\u001b[0m \u001b[0m_DatasetKind\u001b[0m\u001b[0;34m.\u001b[0m\u001b[0mIterable\u001b[0m \u001b[0;32mand\u001b[0m\u001b[0;31m \u001b[0m\u001b[0;31m\\\u001b[0m\u001b[0;34m\u001b[0m\u001b[0;34m\u001b[0m\u001b[0m\n",
            "\u001b[0;32m/usr/local/lib/python3.6/dist-packages/torch/utils/data/dataloader.py\u001b[0m in \u001b[0;36m_next_data\u001b[0;34m(self)\u001b[0m\n\u001b[1;32m    839\u001b[0m \u001b[0;34m\u001b[0m\u001b[0m\n\u001b[1;32m    840\u001b[0m             \u001b[0;32massert\u001b[0m \u001b[0;32mnot\u001b[0m \u001b[0mself\u001b[0m\u001b[0;34m.\u001b[0m\u001b[0m_shutdown\u001b[0m \u001b[0;32mand\u001b[0m \u001b[0mself\u001b[0m\u001b[0;34m.\u001b[0m\u001b[0m_tasks_outstanding\u001b[0m \u001b[0;34m>\u001b[0m \u001b[0;36m0\u001b[0m\u001b[0;34m\u001b[0m\u001b[0;34m\u001b[0m\u001b[0m\n\u001b[0;32m--> 841\u001b[0;31m             \u001b[0midx\u001b[0m\u001b[0;34m,\u001b[0m \u001b[0mdata\u001b[0m \u001b[0;34m=\u001b[0m \u001b[0mself\u001b[0m\u001b[0;34m.\u001b[0m\u001b[0m_get_data\u001b[0m\u001b[0;34m(\u001b[0m\u001b[0;34m)\u001b[0m\u001b[0;34m\u001b[0m\u001b[0;34m\u001b[0m\u001b[0m\n\u001b[0m\u001b[1;32m    842\u001b[0m             \u001b[0mself\u001b[0m\u001b[0;34m.\u001b[0m\u001b[0m_tasks_outstanding\u001b[0m \u001b[0;34m-=\u001b[0m \u001b[0;36m1\u001b[0m\u001b[0;34m\u001b[0m\u001b[0;34m\u001b[0m\u001b[0m\n\u001b[1;32m    843\u001b[0m \u001b[0;34m\u001b[0m\u001b[0m\n",
            "\u001b[0;32m/usr/local/lib/python3.6/dist-packages/torch/utils/data/dataloader.py\u001b[0m in \u001b[0;36m_get_data\u001b[0;34m(self)\u001b[0m\n\u001b[1;32m    806\u001b[0m         \u001b[0;32melse\u001b[0m\u001b[0;34m:\u001b[0m\u001b[0;34m\u001b[0m\u001b[0;34m\u001b[0m\u001b[0m\n\u001b[1;32m    807\u001b[0m             \u001b[0;32mwhile\u001b[0m \u001b[0;32mTrue\u001b[0m\u001b[0;34m:\u001b[0m\u001b[0;34m\u001b[0m\u001b[0;34m\u001b[0m\u001b[0m\n\u001b[0;32m--> 808\u001b[0;31m                 \u001b[0msuccess\u001b[0m\u001b[0;34m,\u001b[0m \u001b[0mdata\u001b[0m \u001b[0;34m=\u001b[0m \u001b[0mself\u001b[0m\u001b[0;34m.\u001b[0m\u001b[0m_try_get_data\u001b[0m\u001b[0;34m(\u001b[0m\u001b[0;34m)\u001b[0m\u001b[0;34m\u001b[0m\u001b[0;34m\u001b[0m\u001b[0m\n\u001b[0m\u001b[1;32m    809\u001b[0m                 \u001b[0;32mif\u001b[0m \u001b[0msuccess\u001b[0m\u001b[0;34m:\u001b[0m\u001b[0;34m\u001b[0m\u001b[0;34m\u001b[0m\u001b[0m\n\u001b[1;32m    810\u001b[0m                     \u001b[0;32mreturn\u001b[0m \u001b[0mdata\u001b[0m\u001b[0;34m\u001b[0m\u001b[0;34m\u001b[0m\u001b[0m\n",
            "\u001b[0;32m/usr/local/lib/python3.6/dist-packages/torch/utils/data/dataloader.py\u001b[0m in \u001b[0;36m_try_get_data\u001b[0;34m(self, timeout)\u001b[0m\n\u001b[1;32m    759\u001b[0m         \u001b[0;31m#   (bool: whether successfully get data, any: data if successful else None)\u001b[0m\u001b[0;34m\u001b[0m\u001b[0;34m\u001b[0m\u001b[0;34m\u001b[0m\u001b[0m\n\u001b[1;32m    760\u001b[0m         \u001b[0;32mtry\u001b[0m\u001b[0;34m:\u001b[0m\u001b[0;34m\u001b[0m\u001b[0;34m\u001b[0m\u001b[0m\n\u001b[0;32m--> 761\u001b[0;31m             \u001b[0mdata\u001b[0m \u001b[0;34m=\u001b[0m \u001b[0mself\u001b[0m\u001b[0;34m.\u001b[0m\u001b[0m_data_queue\u001b[0m\u001b[0;34m.\u001b[0m\u001b[0mget\u001b[0m\u001b[0;34m(\u001b[0m\u001b[0mtimeout\u001b[0m\u001b[0;34m=\u001b[0m\u001b[0mtimeout\u001b[0m\u001b[0;34m)\u001b[0m\u001b[0;34m\u001b[0m\u001b[0;34m\u001b[0m\u001b[0m\n\u001b[0m\u001b[1;32m    762\u001b[0m             \u001b[0;32mreturn\u001b[0m \u001b[0;34m(\u001b[0m\u001b[0;32mTrue\u001b[0m\u001b[0;34m,\u001b[0m \u001b[0mdata\u001b[0m\u001b[0;34m)\u001b[0m\u001b[0;34m\u001b[0m\u001b[0;34m\u001b[0m\u001b[0m\n\u001b[1;32m    763\u001b[0m         \u001b[0;32mexcept\u001b[0m \u001b[0mException\u001b[0m \u001b[0;32mas\u001b[0m \u001b[0me\u001b[0m\u001b[0;34m:\u001b[0m\u001b[0;34m\u001b[0m\u001b[0;34m\u001b[0m\u001b[0m\n",
            "\u001b[0;32m/usr/lib/python3.6/multiprocessing/queues.py\u001b[0m in \u001b[0;36mget\u001b[0;34m(self, block, timeout)\u001b[0m\n\u001b[1;32m    102\u001b[0m                 \u001b[0;32mif\u001b[0m \u001b[0mblock\u001b[0m\u001b[0;34m:\u001b[0m\u001b[0;34m\u001b[0m\u001b[0;34m\u001b[0m\u001b[0m\n\u001b[1;32m    103\u001b[0m                     \u001b[0mtimeout\u001b[0m \u001b[0;34m=\u001b[0m \u001b[0mdeadline\u001b[0m \u001b[0;34m-\u001b[0m \u001b[0mtime\u001b[0m\u001b[0;34m.\u001b[0m\u001b[0mmonotonic\u001b[0m\u001b[0;34m(\u001b[0m\u001b[0;34m)\u001b[0m\u001b[0;34m\u001b[0m\u001b[0;34m\u001b[0m\u001b[0m\n\u001b[0;32m--> 104\u001b[0;31m                     \u001b[0;32mif\u001b[0m \u001b[0;32mnot\u001b[0m \u001b[0mself\u001b[0m\u001b[0;34m.\u001b[0m\u001b[0m_poll\u001b[0m\u001b[0;34m(\u001b[0m\u001b[0mtimeout\u001b[0m\u001b[0;34m)\u001b[0m\u001b[0;34m:\u001b[0m\u001b[0;34m\u001b[0m\u001b[0;34m\u001b[0m\u001b[0m\n\u001b[0m\u001b[1;32m    105\u001b[0m                         \u001b[0;32mraise\u001b[0m \u001b[0mEmpty\u001b[0m\u001b[0;34m\u001b[0m\u001b[0;34m\u001b[0m\u001b[0m\n\u001b[1;32m    106\u001b[0m                 \u001b[0;32melif\u001b[0m \u001b[0;32mnot\u001b[0m \u001b[0mself\u001b[0m\u001b[0;34m.\u001b[0m\u001b[0m_poll\u001b[0m\u001b[0;34m(\u001b[0m\u001b[0;34m)\u001b[0m\u001b[0;34m:\u001b[0m\u001b[0;34m\u001b[0m\u001b[0;34m\u001b[0m\u001b[0m\n",
            "\u001b[0;32m/usr/lib/python3.6/multiprocessing/connection.py\u001b[0m in \u001b[0;36mpoll\u001b[0;34m(self, timeout)\u001b[0m\n\u001b[1;32m    255\u001b[0m         \u001b[0mself\u001b[0m\u001b[0;34m.\u001b[0m\u001b[0m_check_closed\u001b[0m\u001b[0;34m(\u001b[0m\u001b[0;34m)\u001b[0m\u001b[0;34m\u001b[0m\u001b[0;34m\u001b[0m\u001b[0m\n\u001b[1;32m    256\u001b[0m         \u001b[0mself\u001b[0m\u001b[0;34m.\u001b[0m\u001b[0m_check_readable\u001b[0m\u001b[0;34m(\u001b[0m\u001b[0;34m)\u001b[0m\u001b[0;34m\u001b[0m\u001b[0;34m\u001b[0m\u001b[0m\n\u001b[0;32m--> 257\u001b[0;31m         \u001b[0;32mreturn\u001b[0m \u001b[0mself\u001b[0m\u001b[0;34m.\u001b[0m\u001b[0m_poll\u001b[0m\u001b[0;34m(\u001b[0m\u001b[0mtimeout\u001b[0m\u001b[0;34m)\u001b[0m\u001b[0;34m\u001b[0m\u001b[0;34m\u001b[0m\u001b[0m\n\u001b[0m\u001b[1;32m    258\u001b[0m \u001b[0;34m\u001b[0m\u001b[0m\n\u001b[1;32m    259\u001b[0m     \u001b[0;32mdef\u001b[0m \u001b[0m__enter__\u001b[0m\u001b[0;34m(\u001b[0m\u001b[0mself\u001b[0m\u001b[0;34m)\u001b[0m\u001b[0;34m:\u001b[0m\u001b[0;34m\u001b[0m\u001b[0;34m\u001b[0m\u001b[0m\n",
            "\u001b[0;32m/usr/lib/python3.6/multiprocessing/connection.py\u001b[0m in \u001b[0;36m_poll\u001b[0;34m(self, timeout)\u001b[0m\n\u001b[1;32m    412\u001b[0m \u001b[0;34m\u001b[0m\u001b[0m\n\u001b[1;32m    413\u001b[0m     \u001b[0;32mdef\u001b[0m \u001b[0m_poll\u001b[0m\u001b[0;34m(\u001b[0m\u001b[0mself\u001b[0m\u001b[0;34m,\u001b[0m \u001b[0mtimeout\u001b[0m\u001b[0;34m)\u001b[0m\u001b[0;34m:\u001b[0m\u001b[0;34m\u001b[0m\u001b[0;34m\u001b[0m\u001b[0m\n\u001b[0;32m--> 414\u001b[0;31m         \u001b[0mr\u001b[0m \u001b[0;34m=\u001b[0m \u001b[0mwait\u001b[0m\u001b[0;34m(\u001b[0m\u001b[0;34m[\u001b[0m\u001b[0mself\u001b[0m\u001b[0;34m]\u001b[0m\u001b[0;34m,\u001b[0m \u001b[0mtimeout\u001b[0m\u001b[0;34m)\u001b[0m\u001b[0;34m\u001b[0m\u001b[0;34m\u001b[0m\u001b[0m\n\u001b[0m\u001b[1;32m    415\u001b[0m         \u001b[0;32mreturn\u001b[0m \u001b[0mbool\u001b[0m\u001b[0;34m(\u001b[0m\u001b[0mr\u001b[0m\u001b[0;34m)\u001b[0m\u001b[0;34m\u001b[0m\u001b[0;34m\u001b[0m\u001b[0m\n\u001b[1;32m    416\u001b[0m \u001b[0;34m\u001b[0m\u001b[0m\n",
            "\u001b[0;32m/usr/lib/python3.6/multiprocessing/connection.py\u001b[0m in \u001b[0;36mwait\u001b[0;34m(object_list, timeout)\u001b[0m\n\u001b[1;32m    909\u001b[0m \u001b[0;34m\u001b[0m\u001b[0m\n\u001b[1;32m    910\u001b[0m             \u001b[0;32mwhile\u001b[0m \u001b[0;32mTrue\u001b[0m\u001b[0;34m:\u001b[0m\u001b[0;34m\u001b[0m\u001b[0;34m\u001b[0m\u001b[0m\n\u001b[0;32m--> 911\u001b[0;31m                 \u001b[0mready\u001b[0m \u001b[0;34m=\u001b[0m \u001b[0mselector\u001b[0m\u001b[0;34m.\u001b[0m\u001b[0mselect\u001b[0m\u001b[0;34m(\u001b[0m\u001b[0mtimeout\u001b[0m\u001b[0;34m)\u001b[0m\u001b[0;34m\u001b[0m\u001b[0;34m\u001b[0m\u001b[0m\n\u001b[0m\u001b[1;32m    912\u001b[0m                 \u001b[0;32mif\u001b[0m \u001b[0mready\u001b[0m\u001b[0;34m:\u001b[0m\u001b[0;34m\u001b[0m\u001b[0;34m\u001b[0m\u001b[0m\n\u001b[1;32m    913\u001b[0m                     \u001b[0;32mreturn\u001b[0m \u001b[0;34m[\u001b[0m\u001b[0mkey\u001b[0m\u001b[0;34m.\u001b[0m\u001b[0mfileobj\u001b[0m \u001b[0;32mfor\u001b[0m \u001b[0;34m(\u001b[0m\u001b[0mkey\u001b[0m\u001b[0;34m,\u001b[0m \u001b[0mevents\u001b[0m\u001b[0;34m)\u001b[0m \u001b[0;32min\u001b[0m \u001b[0mready\u001b[0m\u001b[0;34m]\u001b[0m\u001b[0;34m\u001b[0m\u001b[0;34m\u001b[0m\u001b[0m\n",
            "\u001b[0;32m/usr/lib/python3.6/selectors.py\u001b[0m in \u001b[0;36mselect\u001b[0;34m(self, timeout)\u001b[0m\n\u001b[1;32m    374\u001b[0m             \u001b[0mready\u001b[0m \u001b[0;34m=\u001b[0m \u001b[0;34m[\u001b[0m\u001b[0;34m]\u001b[0m\u001b[0;34m\u001b[0m\u001b[0;34m\u001b[0m\u001b[0m\n\u001b[1;32m    375\u001b[0m             \u001b[0;32mtry\u001b[0m\u001b[0;34m:\u001b[0m\u001b[0;34m\u001b[0m\u001b[0;34m\u001b[0m\u001b[0m\n\u001b[0;32m--> 376\u001b[0;31m                 \u001b[0mfd_event_list\u001b[0m \u001b[0;34m=\u001b[0m \u001b[0mself\u001b[0m\u001b[0;34m.\u001b[0m\u001b[0m_poll\u001b[0m\u001b[0;34m.\u001b[0m\u001b[0mpoll\u001b[0m\u001b[0;34m(\u001b[0m\u001b[0mtimeout\u001b[0m\u001b[0;34m)\u001b[0m\u001b[0;34m\u001b[0m\u001b[0;34m\u001b[0m\u001b[0m\n\u001b[0m\u001b[1;32m    377\u001b[0m             \u001b[0;32mexcept\u001b[0m \u001b[0mInterruptedError\u001b[0m\u001b[0;34m:\u001b[0m\u001b[0;34m\u001b[0m\u001b[0;34m\u001b[0m\u001b[0m\n\u001b[1;32m    378\u001b[0m                 \u001b[0;32mreturn\u001b[0m \u001b[0mready\u001b[0m\u001b[0;34m\u001b[0m\u001b[0;34m\u001b[0m\u001b[0m\n",
            "\u001b[0;31mKeyboardInterrupt\u001b[0m: "
          ]
        }
      ]
    }
  ]
}